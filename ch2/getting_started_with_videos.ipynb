{
 "cells": [
  {
   "cell_type": "markdown",
   "metadata": {},
   "source": [
    "# Getting Started with Videos\n",
    "\n",
    "## Goal\n",
    "\n",
    "비디오를 읽고, 보여주고, 저장하는 법을 배운다.\n",
    "\n",
    "카메라에서 비디오를 캡쳐하고 보여주는 법을 배운다.\n",
    "\n",
    "함수의 사용법을 배운다 : `cv.VideoCapture()`, `cv.VideoWriter()`"
   ]
  },
  {
   "cell_type": "markdown",
   "metadata": {},
   "source": [
    "### Capture Video from Camera\n",
    "\n",
    "비디오를 캡쳐하기 위해서는 VideoCapture 객체를 생성해야 한다.\n",
    "\n",
    "연결된 카메라를 사용하기 위해 device index를 인자로 넘겨줄 수도 있고 비디오파일을 열기 위해 비디오파일의 이름을 인자로 넘겨줄 수도 있다."
   ]
  },
  {
   "cell_type": "code",
   "execution_count": 4,
   "metadata": {},
   "outputs": [],
   "source": [
    "import numpy as np\n",
    "import cv2\n",
    "\n",
    "cap = cv2.VideoCapture(0)\n",
    "if not cap.isOpened():\n",
    "    print(\"Cannot open camera\")\n",
    "    exit()\n",
    "    \n",
    "while True:\n",
    "    # frame-by-frame으로 캡쳐\n",
    "    ret, frame = cap.read()\n",
    "    \n",
    "    # frame이 제대로 읽히지 않았을 경우\n",
    "    if not ret:\n",
    "        print(\"Can't receive frame\")\n",
    "        break\n",
    "    \n",
    "    # frame 조작 코드 (여기서는 grayscale로 변환하였음)\n",
    "    gray = cv2.cvtColor(frame, cv2.COLOR_BGR2GRAY)\n",
    "    \n",
    "    # frame 보여주기\n",
    "    cv2.imshow('frame', gray)\n",
    "    \n",
    "    if cv2.waitKey(1) == ord('q'):\n",
    "        break\n",
    "    \n",
    "# 작업이 끝나면 capture 객체를 release 해주어야 함\n",
    "cap.release()\n",
    "cv2.destroyAllWindows()"
   ]
  },
  {
   "cell_type": "markdown",
   "metadata": {},
   "source": [
    "#### `cap.read()`\n",
    "frame이 정상적으로 읽어졌는지 확인하는 함수이다.\n",
    "\n",
    "frame이 정상적으로 읽어졌다면, True를 반환한다.\n",
    "\n",
    "#### `cap.isOpened()`\n",
    "VideoCapture 객체가 잘 초기화되었는지 확인하는 함수이다. (가끔 초기화되지 않는 경우가 있음)\n",
    "\n",
    "초기화가 잘 되었다면 True를 반환한다.\n",
    "\n",
    "#### `cap.get(propId)`,  `cap.set(propId, value)`\n",
    "0에서 18까지의 번호로 지정된 `propId`와 `cap.get(propId)`,  `cap.set(propId, value)` 함수를 통해 비디오의 특징을 가져오고 설정할 수 있다.\n",
    "\n",
    "각 `propId`는 비디오의 성질을 나타낸다. 여러 설정 값에 대한 자세한 내용은 [cv::VideoCaptureProperties\n",
    "](https://docs.opencv.org/4.2.0/d4/d15/group__videoio__flags__base.html#gaeb8dd9c89c10a5c63c139bf7c4f5704d)이곳을 참조하면 된다.\n",
    "\n",
    "예를 들어, frame의 width와 height는 다음을 통해 확인할 수 있다.\n",
    "- `cap.get(cv.CAP_PROP_FRAME_WIDTH)`\n",
    "- `cap.get(cv.CAP_PROP_FRAME_HEIGHT)`\n",
    "\n",
    "같은 방식으로 frame의 width와 height를 각각 320, 240으로 다음과 같이 수정할 수 있다.\n",
    "- `ret = cap.set(cv.CAP_PROP_FRAME_WIDTH, 320)`\n",
    "- `ret = cap.set(cv.CAP_PROP_FRAME_HEIGHT, 240)`"
   ]
  },
  {
   "cell_type": "markdown",
   "metadata": {},
   "source": [
    "### Playing Video from file\n",
    "\n",
    "비디오 파일을 실행하는 것은 위의 비디오 캡쳐와 동일하다. device index 대신에 비디오 파일의 이름(경로)만 전달하면 된다.\n",
    "\n",
    "또한, `cv.waitKey()`에 적당한 시간을 전달해서 비디오의 속도를 조절할 수 있다.\n",
    "작은 값을 전달하면, 아주 빨리 실행되고, 큰 값을 전달하면 슬로우모션으로 실행된다."
   ]
  },
  {
   "cell_type": "code",
   "execution_count": 3,
   "metadata": {},
   "outputs": [
    {
     "name": "stdout",
     "output_type": "stream",
     "text": [
      "Can't read frame\n"
     ]
    }
   ],
   "source": [
    "import numpy as np\n",
    "import cv2\n",
    "\n",
    "cap = cv2.VideoCapture('./output.avi')\n",
    "\n",
    "while cap.isOpened():\n",
    "    ret, frame = cap.read()\n",
    "    \n",
    "    if not ret:\n",
    "        print(\"Can't read frame\")\n",
    "        break\n",
    "    \n",
    "    gray = cv2.cvtColor(frame, cv2.COLOR_BGR2GRAY)\n",
    "    \n",
    "    cv2.imshow('frame', gray)\n",
    "    \n",
    "#     # 빠른 실행\n",
    "#     if cv2.waitKey(1) == ord('q'):\n",
    "        \n",
    "#     # 슬로우 모션\n",
    "#     if cv2.waitKey(100) == ord('q'):\n",
    "    \n",
    "    if cv2.waitKey(10) == ord('q'):\n",
    "        break\n",
    "        \n",
    "\n",
    "cap.release()\n",
    "cv2.destroyAllWindows()"
   ]
  },
  {
   "cell_type": "markdown",
   "metadata": {},
   "source": [
    "### Saving a Video\n",
    "\n",
    "비디오를 저장하기 위해서는 VideoWriter 객체를 생성해야 한다.\n",
    "\n",
    "객체 생성시 전달하는 인자는 다음과 같다. \n",
    "- 출력 파일의 이름\n",
    "- FourCC 코드\n",
    "- 초당 프레임 수(fps)\n",
    "- frame의 크기\n",
    "- isColor flag (True면 color, False면 grayscale이며 기본값은 True)\n",
    "\n",
    "참고) FourCC는 비디오 코덱을 나타내는 4byte code이다. 자세한 내용은 사용시 인터넷이나 다른 자료를 참고하자."
   ]
  },
  {
   "cell_type": "code",
   "execution_count": 4,
   "metadata": {},
   "outputs": [],
   "source": [
    "import numpy as np\n",
    "import cv2\n",
    "\n",
    "cap = cv2.VideoCapture(0)\n",
    "\n",
    "fourcc = cv2.VideoWriter_fourcc(*'XVID')\n",
    "out = cv2.VideoWriter('./output.avi', fourcc, 20.0, (640, 480))\n",
    "\n",
    "while cap.isOpened():\n",
    "    ret, frame = cap.read()\n",
    "    if not ret:\n",
    "        print(\"Can't receive frame\")\n",
    "        break\n",
    "    \n",
    "    frame = cv2.flip(frame, 0)\n",
    "    \n",
    "    # flipped frame을 write\n",
    "    out.write(frame)\n",
    "    \n",
    "    cv2.imshow('frame', frame)\n",
    "    if cv2.waitKey(1) == ord('q'):\n",
    "        break\n",
    "        \n",
    "\n",
    "cap.release()\n",
    "out.release()\n",
    "\n",
    "cv2.destroyAllWindows()"
   ]
  }
 ],
 "metadata": {
  "kernelspec": {
   "display_name": "Python 3.7.6 64-bit ('tf_2': conda)",
   "language": "python",
   "name": "python37664bittf2condad8aea8848a2a40c78fd80e7bd19dd5cf"
  },
  "language_info": {
   "codemirror_mode": {
    "name": "ipython",
    "version": 3
   },
   "file_extension": ".py",
   "mimetype": "text/x-python",
   "name": "python",
   "nbconvert_exporter": "python",
   "pygments_lexer": "ipython3",
   "version": "3.7.6"
  }
 },
 "nbformat": 4,
 "nbformat_minor": 4
}
