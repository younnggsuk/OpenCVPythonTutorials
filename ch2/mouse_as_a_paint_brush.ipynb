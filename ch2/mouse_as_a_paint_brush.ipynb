{
 "cells": [
  {
   "cell_type": "markdown",
   "metadata": {},
   "source": [
    "# Mouse as a Paint-Brush\n",
    "\n",
    "## Goal\n",
    "\n",
    "OpenCV에서 마우스 이벤트를 다루는 법을 배운다.\n",
    "\n",
    "함수의 사용법을 배운다 : `cv2.setMouseCallback()`"
   ]
  },
  {
   "cell_type": "markdown",
   "metadata": {},
   "source": [
    "### Simple Demo\n",
    "\n",
    "여기서, 우리는 더블 클릭할 때마다 이미지에 원을 그리는 간단한 application을 만들어본다\n",
    "\n",
    "먼저 마우스 이벤트가 일어날 때 실행되는 마우스 콜백 함수를 만든다.\n",
    "\n",
    "마우스 이벤트는 왼쪽 버튼의 up/down/double-click 등과 같은 마우스와 관련된 모든 것이 될 수 있다. 모든 마우스 이벤트는 좌표(x, y)를 제공하므로 마우스 이벤트와 위치를 이용해 우리는 원하는 것을 할 수 있다. \n",
    "\n",
    "가능한 모든 이벤트는 다음의 파이썬 코드를 실행함으로써 확인할 수 있다."
   ]
  },
  {
   "cell_type": "code",
   "execution_count": 2,
   "metadata": {},
   "outputs": [
    {
     "name": "stdout",
     "output_type": "stream",
     "text": [
      "['EVENT_FLAG_ALTKEY', 'EVENT_FLAG_CTRLKEY', 'EVENT_FLAG_LBUTTON', 'EVENT_FLAG_MBUTTON', 'EVENT_FLAG_RBUTTON', 'EVENT_FLAG_SHIFTKEY', 'EVENT_LBUTTONDBLCLK', 'EVENT_LBUTTONDOWN', 'EVENT_LBUTTONUP', 'EVENT_MBUTTONDBLCLK', 'EVENT_MBUTTONDOWN', 'EVENT_MBUTTONUP', 'EVENT_MOUSEHWHEEL', 'EVENT_MOUSEMOVE', 'EVENT_MOUSEWHEEL', 'EVENT_RBUTTONDBLCLK', 'EVENT_RBUTTONDOWN', 'EVENT_RBUTTONUP']\n"
     ]
    }
   ],
   "source": [
    "import cv2\n",
    "\n",
    "events = [i for i in dir(cv2) if 'EVENT' in i]\n",
    "print(events)"
   ]
  },
  {
   "cell_type": "markdown",
   "metadata": {},
   "source": [
    "마우스 콜백 함수는 서로 다른 동작을 수행하지만 모두 정해진 형식을 따라야 한다.\n",
    "\n",
    "아래의 코드는 더블클릭이 발생하는 곳에서 원을 그리는 마우스 콜백 함수이다."
   ]
  },
  {
   "cell_type": "code",
   "execution_count": 1,
   "metadata": {},
   "outputs": [],
   "source": [
    "import numpy as np\n",
    "import cv2\n",
    "\n",
    "# 모든 마우스 콜백 함수는 아래와 같은 형태를 따른다.\n",
    "def draw_circle(event, x, y, flags, param):\n",
    "    # 더블 클릭 이벤트일 경우,\n",
    "    if event == cv2.EVENT_LBUTTONDBLCLK:\n",
    "        cv2.circle(img, (x, y), 100, (255, 0, 0), -1)\n",
    "        \n",
    "\n",
    "# 검은 배경 이미지 생성\n",
    "img = np.zeros((512, 512, 3), np.uint8)\n",
    "cv2.namedWindow('image')\n",
    "# 콜백함수 설정\n",
    "cv2.setMouseCallback('image', draw_circle)\n",
    "while(1):\n",
    "    cv2.imshow('image', img)\n",
    "    \n",
    "    # ESC\n",
    "    if cv2.waitKey(20) & 0xff == 27:\n",
    "        break\n",
    "        \n",
    "cv2.destroyAllWindows()"
   ]
  },
  {
   "cell_type": "markdown",
   "metadata": {},
   "source": [
    "### More Advanced Demo\n",
    "\n",
    "여기서, 우리는 마우스를 드래그하면서 (우리가 선택한 mode에 따라) 직사각형이나 원을 그리는 application을 만들어 본다.\n",
    "\n",
    "따라서 우리의 마우스 콜백 함수는 직사각형을 그리는 부분과 원을 그리는 부분으로 나뉜다.\n",
    "\n",
    "이 예제는 object tracking, image segmentation과 같은 interactive application에서 유용할 것이다."
   ]
  },
  {
   "cell_type": "code",
   "execution_count": 1,
   "metadata": {},
   "outputs": [],
   "source": [
    "import numpy as np\n",
    "import cv2\n",
    "\n",
    "drawing = False\n",
    "mode = True\n",
    "ix, iy = -1, -1\n",
    "\n",
    "def drawing(event, x, y, flags, param):\n",
    "    global ix, iy, drawing, mode\n",
    "    \n",
    "    if event == cv2.EVENT_LBUTTONDOWN:\n",
    "        drawing = True\n",
    "        ix, iy = x, y\n",
    "    elif event == cv2.EVENT_MOUSEMOVE:\n",
    "        if drawing == True:\n",
    "            if mode == True:\n",
    "                cv2.circle(img, (x, y), 5, (0, 0, 255), -1)\n",
    "            else:\n",
    "                cv2.rectangle(img, (ix, iy), (x, y), (0, 255, 0), -1)\n",
    "    elif event == cv2.EVENT_LBUTTONUP:\n",
    "        drawing = False\n",
    "        if mode == True:\n",
    "            cv2.circle(img, (x, y), 5, (0, 0, 255), -1)\n",
    "        else:\n",
    "            cv2.rectangle(img, (ix, iy), (x, y), (0, 255, 0), -1)"
   ]
  },
  {
   "cell_type": "markdown",
   "metadata": {},
   "source": [
    "다음으로 마우스 콜백 함수와 OpenCV window를 binding 해주어야 한다.\n",
    "\n",
    "메인 루프에서 키보드 입력을 통해 직사각형과 원을 토글할 수 있다."
   ]
  },
  {
   "cell_type": "code",
   "execution_count": 2,
   "metadata": {},
   "outputs": [],
   "source": [
    "img = np.zeros((512, 512, 3), np.uint8)\n",
    "cv2.namedWindow('image')\n",
    "cv2.setMouseCallback('image', drawing)\n",
    "\n",
    "while(1):\n",
    "    cv2.imshow('image', img)\n",
    "    k = cv2.waitKey(1) & 0xff\n",
    "    if k == ord('m'):\n",
    "        mode = not mode\n",
    "    elif k == 27:\n",
    "        break\n",
    "        \n",
    "cv2.destroyAllWindows()"
   ]
  }
 ],
 "metadata": {
  "kernelspec": {
   "display_name": "Python 3",
   "language": "python",
   "name": "python3"
  },
  "language_info": {
   "codemirror_mode": {
    "name": "ipython",
    "version": 3
   },
   "file_extension": ".py",
   "mimetype": "text/x-python",
   "name": "python",
   "nbconvert_exporter": "python",
   "pygments_lexer": "ipython3",
   "version": "3.7.6"
  }
 },
 "nbformat": 4,
 "nbformat_minor": 4
}
