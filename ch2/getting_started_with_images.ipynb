{
 "cells": [
  {
   "cell_type": "markdown",
   "metadata": {},
   "source": [
    "# Getting Started with Images\n",
    "\n",
    "## Goals\n",
    "\n",
    "여기서는 이미지를 읽고, 보여주고, 저장하는 방법에 대해서 배운다.\n",
    "\n",
    "3가지 함수를 배운다 : `cv2.imread()`, `cv2.imshow()`, `cv2.imwrite()`"
   ]
  },
  {
   "cell_type": "markdown",
   "metadata": {},
   "source": [
    "### Read an Image\n",
    "\n",
    "이미지를 읽기 위해서는 `cv2.imread()` 함수를 사용한다. 이때, 이미지는 working directory이거나 full path가 주어져야 한다.\n",
    "\n",
    "두번째 인자는 이미지를 읽는 방법에 대한 flag이다.\n",
    "- `cv2.IMREAD_COLOR` : 컬러 이미지를 로드한다. 이미지의 투명도는 무시되며 default flag이다.\n",
    "- `cv2.IMREAD_GRAYSCALE` : grayscale 모드로 이미지를 로드한다.\n",
    "- `cv2.IMREAD_UNCHANGED` : 알파 채널을 포함하여 이미지를 로드한다.\n",
    "\n",
    "만약, 이미지 경로가 잘못되면, error를 throw하지 않고, None을 반환한다."
   ]
  },
  {
   "cell_type": "markdown",
   "metadata": {},
   "source": [
    "### Display an image\n",
    "\n",
    "이미지를 보여주기 위해서는 `cv2.imshow()` 함수를 사용한다. 이미지는 window에 나타나며 window 크기는 자동으로 이미지 크기에 맞춰진다.\n",
    "\n",
    "첫번째 인자는 window의 이름이며 문자열이고 두번째 인자는 이미지이다.\n",
    "\n",
    "window은 서로 다른 이름으로 여러 개를 생성할 수 있다."
   ]
  },
  {
   "cell_type": "code",
   "execution_count": 1,
   "metadata": {},
   "outputs": [],
   "source": [
    "# 이미지를 읽고 새 창을 띄워 보여주는 예제\n",
    "\n",
    "import cv2\n",
    "\n",
    "img = cv2.imread('./images/lena.png', cv2.IMREAD_COLOR)\n",
    "\n",
    "if img is not None:\n",
    "    cv2.imshow('image', img)\n",
    "    cv2.waitKey(1000)\n",
    "    cv2.destroyAllWindows()"
   ]
  },
  {
   "cell_type": "markdown",
   "metadata": {},
   "source": [
    "#### `cv2.waitKey()`\n",
    "이 함수는 키 입력을 대기하는 함수이다. 전달되는 인자는 대기 시간이며 millisecond 단위이다.\n",
    "\n",
    "해당 시간안에 키 입력이 감지되면 해당 키의 아스키코드 값을 반환하고 프로그램 실행이 계속된다. (인자로 만약 0이 전달된다면, 키 입력을 영원히 대기한다.)\n",
    "\n",
    "참고) 이 함수는 키보드 이벤트 대기 외에도 많은 GUI 이벤트를 처리하므로 반드시 이미지를 표시할 때에만 사용해야 한다.\n",
    "\n",
    "#### `cv2.destroyAllWindows()`\n",
    "이 함수는 생성된 모든 window를 destory하는 함수이다.\n",
    "\n",
    "만약, 특정 window만 destroy하고 싶다면 `cv2.destroyWindow()`함수를 사용하면 된다. (인자로 window의 이름을 전달)\n",
    "\n",
    "#### `cv2.namedWindow()`\n",
    "이 함수는 empty window를 생성한 후 이미지를 로드해야 할 경우에 사용된다. 매우 큰 이미지를 보여주거나 window에 track bar를 추가할 때 유용하다.\n",
    "\n",
    "두번째 인자로 전달하는 flag에 따라 window의 크기 조절 가능 여부가 지정된다.\n",
    "- `cv2.WINDOW_AUTOSIZE` : 크기 조절 불가한 window를 생성하며 default flag이다.\n",
    "- `cv2.WINDOW_NORMAL` : 크기 조절 가능한 window를 생성"
   ]
  },
  {
   "cell_type": "code",
   "execution_count": 2,
   "metadata": {},
   "outputs": [],
   "source": [
    "# 크기조절 가능한 창 생성 후 이미지 보여주기 예제\n",
    "\n",
    "import cv2\n",
    "\n",
    "img = cv2.imread('./images/lena.png', cv2.IMREAD_COLOR)\n",
    "\n",
    "if img is not None:\n",
    "    cv2.namedWindow('image', cv2.WINDOW_NORMAL)\n",
    "    cv2.imshow('image', img)\n",
    "    cv2.waitKey(0)\n",
    "    cv2.destroyAllWindows()"
   ]
  },
  {
   "cell_type": "markdown",
   "metadata": {},
   "source": [
    "### Write an image\n",
    "\n",
    "이미지를 저장하기 위해서는 `cv2.imwrite()` 함수를 사용한다.\n",
    "\n",
    "첫번째 인자는 저장할 파일의 경로이며 두번째 인자는 저장할 이미지이다."
   ]
  },
  {
   "cell_type": "markdown",
   "metadata": {},
   "source": [
    "### Sum it up\n",
    "\n",
    "다음 코드는 이미지를 grayscale로 읽어서 보여준 후 ESC키를 누르면 종료되고 's'키를 누르면 저장하는 예제이다."
   ]
  },
  {
   "cell_type": "code",
   "execution_count": 8,
   "metadata": {},
   "outputs": [
    {
     "name": "stdout",
     "output_type": "stream",
     "text": [
      "lena_gray.png is saved!\n"
     ]
    }
   ],
   "source": [
    "import cv2\n",
    "\n",
    "img = cv2.imread('./images/lena.png', cv2.IMREAD_COLOR)\n",
    "\n",
    "if img is not None:\n",
    "    cv2.imshow('image', img)\n",
    "    \n",
    "    # 64bit의 경우 다음과 같이 & 0xff를 통해 뒤의 32bit값만 가져와야 한다.\n",
    "    k = cv2.waitKey(0) & 0xff\n",
    "    \n",
    "    if k == 27: # ESC\n",
    "        cv2.destroyAllWindows()\n",
    "    elif k == ord('s'):\n",
    "        cv2.imwrite('./images/lean_gray.png', img)\n",
    "        print('lena_gray.png is saved!')\n",
    "        cv2.destroyAllWindows()"
   ]
  }
 ],
 "metadata": {
  "kernelspec": {
   "display_name": "Python 3",
   "language": "python",
   "name": "python3"
  },
  "language_info": {
   "codemirror_mode": {
    "name": "ipython",
    "version": 3
   },
   "file_extension": ".py",
   "mimetype": "text/x-python",
   "name": "python",
   "nbconvert_exporter": "python",
   "pygments_lexer": "ipython3",
   "version": "3.7.6"
  }
 },
 "nbformat": 4,
 "nbformat_minor": 4
}
