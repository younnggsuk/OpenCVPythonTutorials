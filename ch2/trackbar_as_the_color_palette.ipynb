{
 "cells": [
  {
   "cell_type": "markdown",
   "metadata": {},
   "source": [
    "# Trackbar as the Color Palette\n",
    "\n",
    "## Goal\n",
    "\n",
    "trackbar를 OpenCV window에 binding하는 방법을 배운다.\n",
    "\n",
    "함수의 사용법을 배운다 : `cv2.getTrackbarPos()`, `cv2.createTrackbar()` 등"
   ]
  },
  {
   "cell_type": "markdown",
   "metadata": {},
   "source": [
    "### Code Demo\n",
    "\n",
    "여기서 우리는 지정한 color를 보여주는 간단한 application을 만들어본다. \n",
    "\n",
    "color를 보여주는 window와 각각 B, G, R을 가리키는 3개의 trackbar가 있고 trackbar를 조절하면 그에 따라 window의 color가 바뀐다. 기본 설정으로는 black color를 설정하였다.\n",
    "\n",
    "`cv2.createTrackbar()`의 인자는 순서대로 다음과 같다.\n",
    "1. trackbar name\n",
    "2. window name\n",
    "3. default value\n",
    "4. maximum value\n",
    "5. callback function\n",
    "\n",
    "마지막 인자로 전달된 콜백 함수는 trackbar의 값이 바뀔 때 마다 호출되며 이 콜백 함수는 항상 trackbar position을 기본 값으로 가진다. \n",
    "\n",
    "여기서는 콜백함수가 할 동작이 없으므로 그냥 pass하였다.\n",
    "\n",
    "또 다른 중요한 application은 trackbar를 button 또는 switch로 사용하는 것이다.\n",
    "\n",
    "OpenCV는 button 기능을 기본으로 제공하지 않지만 trackbar를 button 기능처럼 사용할 수 있다. 여기서는 하나의 switch를 만들어 ON일 경우에 동작하고 OFF일 경우에는 screen을 항상 검정으로 표시하도록 하였다."
   ]
  },
  {
   "cell_type": "code",
   "execution_count": 7,
   "metadata": {},
   "outputs": [],
   "source": [
    "import numpy as np\n",
    "import cv2\n",
    "\n",
    "def nothing(x):\n",
    "    pass\n",
    "\n",
    "# 검정 배경 생성\n",
    "img = np.zeros((512, 512, 3), np.uint8)\n",
    "cv2.namedWindow('image')\n",
    "\n",
    "# trackbar 생성\n",
    "cv2.createTrackbar('R', 'image', 0, 255, nothing)\n",
    "cv2.createTrackbar('G', 'image', 0, 255, nothing)\n",
    "cv2.createTrackbar('B', 'image', 0, 255, nothing)\n",
    "\n",
    "switch = 'OFF/ON'\n",
    "cv2.createTrackbar(switch, 'image', 0, 1, nothing)\n",
    "\n",
    "while(True):\n",
    "    cv2.imshow('image', img)\n",
    "    \n",
    "    k = cv2.waitKey(1) & 0xff\n",
    "    # ESC\n",
    "    if k == 27:\n",
    "        break\n",
    "        \n",
    "    # 각 trackbar의 값 가져오기\n",
    "    r = cv2.getTrackbarPos('R', 'image')\n",
    "    g = cv2.getTrackbarPos('G', 'image')\n",
    "    b = cv2.getTrackbarPos('B', 'image')\n",
    "    s = cv2.getTrackbarPos(switch, 'image')\n",
    "    \n",
    "    if s == 0:\n",
    "        img[:] = 0\n",
    "    else:\n",
    "        img[:] = [b, g, r]\n",
    "#         img[:, :, 0] = b\n",
    "#         img[:, :, 1] = g\n",
    "#         img[:, :, 2] = r\n",
    "\n",
    "cv2.destroyAllWindows()"
   ]
  },
  {
   "cell_type": "code",
   "execution_count": null,
   "metadata": {},
   "outputs": [],
   "source": []
  }
 ],
 "metadata": {
  "kernelspec": {
   "display_name": "Python 3",
   "language": "python",
   "name": "python3"
  },
  "language_info": {
   "codemirror_mode": {
    "name": "ipython",
    "version": 3
   },
   "file_extension": ".py",
   "mimetype": "text/x-python",
   "name": "python",
   "nbconvert_exporter": "python",
   "pygments_lexer": "ipython3",
   "version": "3.7.6"
  }
 },
 "nbformat": 4,
 "nbformat_minor": 4
}
